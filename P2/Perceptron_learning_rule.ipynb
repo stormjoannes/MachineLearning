{
 "cells": [
  {
   "cell_type": "code",
   "execution_count": 7,
   "metadata": {},
   "outputs": [],
   "source": [
    "n = 0.1 #learning rate\n",
    "w0 = -1.5 #bias\n",
    "w1 = -0.5 #weight 1\n",
    "w2 = 0.5 #weight 2\n",
    "errors = 0\n",
    "\n",
    "x = update(n, w1, w2, w0, d, errors)\n",
    "print(x)"
   ]
  },
  {
   "cell_type": "code",
   "execution_count": null,
   "metadata": {},
   "outputs": [],
   "source": [
    "# a = (x1 * w1) + (x2 * w2) + (1 * w0)\n",
    "# #step function, als a boven 0 dan 1 anders 0\n",
    "# a = 1 if a >= 0 else 0\n",
    "\n",
    "# #next up, als a anders is dat verwachtte output, verander bias.\n",
    "# if a != d:\n",
    "#     w1Up = n * w1\n",
    "#     w2Up = n * w2\n",
    "#     w0Up = n * w0"
   ]
  },
  {
   "cell_type": "code",
   "execution_count": 8,
   "metadata": {},
   "outputs": [],
   "source": [
    "def update(n, w1, w2, w0, errors):\n",
    "    a = (x1 * w1) + (x2 * w2) + (1 * w0)\n",
    "    \n",
    "    if error(a, errors, correctNum)[2]:\n",
    "        return f\"done with {errors} errors \\n weight 1: {w1} \\n weight 2: {w2} \\n bias: {w0}\"\n",
    "    \n",
    "    #step function, als a boven 0 dan 1 anders 0\n",
    "    a = 1 if a >= 0 else 0\n",
    "\n",
    "    #next up, als a anders is dat verwachtte output, verander bias.\n",
    "    if a != d:\n",
    "        w1Up = n * w1\n",
    "        w2Up = n * w2\n",
    "        w0Up = n * w0\n",
    "        \n",
    "        return update(n, w1Up, w2Up, w0Up, errors)\n",
    "    \n",
    "    else:\n",
    "        return update(n, w1, w2, w0, errors)"
   ]
  },
  {
   "cell_type": "code",
   "execution_count": null,
   "metadata": {},
   "outputs": [],
   "source": [
    "def error(a, errors, correct):\n",
    "    if a != d:\n",
    "        errors += 1\n",
    "        correct = 0\n",
    "    else:\n",
    "        correct += 1\n",
    "        \n",
    "    accept = True if correct == 4 else False\n",
    "    \n",
    "    return errors, correct, accept"
   ]
  },
  {
   "cell_type": "code",
   "execution_count": null,
   "metadata": {},
   "outputs": [],
   "source": []
  }
 ],
 "metadata": {
  "kernelspec": {
   "display_name": "Python 3",
   "language": "python",
   "name": "python3"
  },
  "language_info": {
   "codemirror_mode": {
    "name": "ipython",
    "version": 3
   },
   "file_extension": ".py",
   "mimetype": "text/x-python",
   "name": "python",
   "nbconvert_exporter": "python",
   "pygments_lexer": "ipython3",
   "version": "3.7.6"
  }
 },
 "nbformat": 4,
 "nbformat_minor": 4
}
